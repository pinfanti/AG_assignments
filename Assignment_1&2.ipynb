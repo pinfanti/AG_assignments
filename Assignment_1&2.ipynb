{
 "cells": [
  {
   "cell_type": "markdown",
   "metadata": {},
   "source": [
    "**Please follow the instructions. Do not add new cell! Write your code in designated areas.**"
   ]
  },
  {
   "cell_type": "code",
   "execution_count": 9,
   "metadata": {},
   "outputs": [
    {
     "name": "stdout",
     "output_type": "stream",
     "text": [
      "Assignment 1 & 2: Solutions by John\n",
      "Local Time: 2023-06-26 16:06:05\n",
      "Computer ID: Ruhids-MBP.gateway.sasktel.net\n"
     ]
    }
   ],
   "source": [
    "import datetime\n",
    "import socket\n",
    "\n",
    "# Get local time\n",
    "local_time = datetime.datetime.now().strftime(\"%Y-%m-%d %H:%M:%S\")\n",
    "\n",
    "# Get computer ID or hostname\n",
    "computer_id = socket.gethostname()\n",
    "\n",
    "# Print output with local time and computer ID\n",
    "print('Assignment 1 & 2: Solutions by John') # Please change your name here\n",
    "print('Local Time:', local_time)\n",
    "print('Computer ID:', computer_id)"
   ]
  },
  {
   "cell_type": "markdown",
   "metadata": {},
   "source": [
    "**Note that you have to run this code in your local engine to pass the assignments**"
   ]
  },
  {
   "cell_type": "markdown",
   "metadata": {},
   "source": [
    "# Assignment 1"
   ]
  },
  {
   "cell_type": "markdown",
   "metadata": {},
   "source": [
    "## Exercise 1: String Manipulation"
   ]
  },
  {
   "cell_type": "markdown",
   "metadata": {},
   "source": [
    "Develop a function that accepts a string parameter indicating a crop name and gives back the crop name in capital letters. Hints: str, upper()"
   ]
  },
  {
   "cell_type": "code",
   "execution_count": 5,
   "metadata": {},
   "outputs": [
    {
     "name": "stdout",
     "output_type": "stream",
     "text": [
      "LENTIL\n"
     ]
    }
   ],
   "source": [
    "## Your code here down\n",
    "\n",
    "crop_name = \"lentil\"\n",
    "\n",
    "def name_changer(name_crop):\n",
    "    name_crop = name_crop.upper()\n",
    "    return name_crop\n",
    "\n",
    "print (name_changer(crop_name))\n",
    "\n",
    "\n",
    "## Your code here up"
   ]
  },
  {
   "cell_type": "markdown",
   "metadata": {},
   "source": [
    "## Exercise 2: Crop Count"
   ]
  },
  {
   "cell_type": "markdown",
   "metadata": {},
   "source": [
    "Create a function that receives a list of crop names (lentil, barley, canola, spring wheat, durum wheat, oats, alfalfa) and outputs the total number of crops. Hints: list, length."
   ]
  },
  {
   "cell_type": "code",
   "execution_count": 4,
   "metadata": {},
   "outputs": [
    {
     "name": "stdout",
     "output_type": "stream",
     "text": [
      "7\n"
     ]
    }
   ],
   "source": [
    "## Your code here down\n",
    "\n",
    "list_crop = [\"lentil\", \"barley\", \"canola\", \"spring wheat\", \"durum wheat\", \"oats\", \"alfalfa\"]\n",
    "\n",
    "def crop_counter(list_c):\n",
    "    number_crop = len(list_c)\n",
    "    return number_crop\n",
    "\n",
    "print (crop_counter(list_crop))\n",
    "\n",
    "## Your code here up"
   ]
  },
  {
   "cell_type": "markdown",
   "metadata": {},
   "source": [
    "## Exercise 3: Temperature Conversion"
   ]
  },
  {
   "cell_type": "markdown",
   "metadata": {},
   "source": [
    "Create a function that takes a temperature in Celsius and converts it to Fahrenheit. Return the converted temperature. Keys:def, find converter."
   ]
  },
  {
   "cell_type": "code",
   "execution_count": 3,
   "metadata": {},
   "outputs": [
    {
     "name": "stdout",
     "output_type": "stream",
     "text": [
      "86.0\n"
     ]
    }
   ],
   "source": [
    "## Your code here down\n",
    "\n",
    "temp_celsius = 30\n",
    "def temperture_converter(t_celsius):\n",
    "    fahrenheit = (t_celsius * 9/5) + 32\n",
    "    return fahrenheit\n",
    "print (temperture_converter(temp_celsius))\n",
    "\n",
    "## Your code here up"
   ]
  },
  {
   "cell_type": "markdown",
   "metadata": {},
   "source": [
    "## Exercise 4: Crop Harvest"
   ]
  },
  {
   "cell_type": "markdown",
   "metadata": {},
   "source": [
    "Create a function that takes the yield of canola crop (in bushels) and returns a string indicating whether it's a high, moderate, or low yield. Keys: strings, if-else, print()"
   ]
  },
  {
   "cell_type": "code",
   "execution_count": 2,
   "metadata": {},
   "outputs": [
    {
     "name": "stdout",
     "output_type": "stream",
     "text": [
      "high yield\n"
     ]
    }
   ],
   "source": [
    "## Your code here down\n",
    "\n",
    "yield_canola = 30\n",
    "\n",
    "def quantitative_indicator(canola):\n",
    "    \n",
    "    if canola > 20:\n",
    "        return \"high yield\"\n",
    "    elif canola < 20 and canola >10:\n",
    "        return \"moderate yield\"\n",
    "    else:\n",
    "        return \"low yield\"\n",
    "\n",
    "print (quantitative_indicator(yield_canola))\n",
    "\n",
    "## Your code here up"
   ]
  },
  {
   "cell_type": "markdown",
   "metadata": {},
   "source": [
    "## Exercise 5: Crop Average"
   ]
  },
  {
   "cell_type": "markdown",
   "metadata": {},
   "source": [
    "Create a function that takes a list of crop yields (spring wheat) and returns the average yield. Keys: list, average() or arithmetic average."
   ]
  },
  {
   "cell_type": "code",
   "execution_count": 1,
   "metadata": {},
   "outputs": [
    {
     "name": "stdout",
     "output_type": "stream",
     "text": [
      "57.0\n"
     ]
    }
   ],
   "source": [
    "## Your code here down\n",
    "\n",
    "spring_wheat = [48, 78, 54, 36, 28, 98]\n",
    "\n",
    "def crop_average (list_crop_yields):\n",
    "    sum_of_nums = sum(list_crop_yields)\n",
    "    count = len(list_crop_yields)\n",
    "    average = sum_of_nums / count\n",
    "    return average\n",
    "\n",
    "print (crop_average (spring_wheat))\n",
    "\n",
    "## Your code here up"
   ]
  },
  {
   "cell_type": "markdown",
   "metadata": {},
   "source": [
    "# Assignment 2"
   ]
  },
  {
   "cell_type": "markdown",
   "metadata": {},
   "source": [
    "## Exercise 6: Crop Recommendation"
   ]
  },
  {
   "cell_type": "markdown",
   "metadata": {},
   "source": [
    "Create a function that takes the type of soil (brown, dark brown, black) as a parameter and returns a recommended crop (lentil, canola, oats) for that soil type. Keys: dict"
   ]
  },
  {
   "cell_type": "code",
   "execution_count": 13,
   "metadata": {},
   "outputs": [
    {
     "name": "stdout",
     "output_type": "stream",
     "text": [
      "Please indicate the soil type you want crop recommendation brown, dark brown, blackhggf\n",
      "Sorry, the soil type you provided do not exist!\n"
     ]
    }
   ],
   "source": [
    "## Your code here down\n",
    "\n",
    "\n",
    "soil_type = input(\"Please indicate the soil type you want crop recommendation brown, dark brown, black\").lower()\n",
    "\n",
    "def crop_recommendation (soil):\n",
    "    crop_dict = {\n",
    "      \"brown\": \"lentil\",\n",
    "      \"dark brown\": \"canola\",\n",
    "      \"black\": \"oats\"\n",
    "        }\n",
    "    \n",
    "    if soil == \"brown\" or soil == \"dark brown\" or soil == \"black\":\n",
    "        return (crop_dict[soil])\n",
    "    else:\n",
    "        return \"Sorry, the soil type you provided do not exist!\"\n",
    "\n",
    "print (crop_recommendation (soil_type))\n",
    "\n",
    "## Your code here up"
   ]
  },
  {
   "cell_type": "markdown",
   "metadata": {},
   "source": [
    "## Exercise 7: Crop Rotation"
   ]
  },
  {
   "cell_type": "markdown",
   "metadata": {},
   "source": [
    "Create a function that takes a list of crop names (lentil, barly, canola, spring wheat, durum wheat, oats) and rotates the crops by moving the last crop to the beginning of the list. Keys: list and list index"
   ]
  },
  {
   "cell_type": "code",
   "execution_count": 15,
   "metadata": {},
   "outputs": [
    {
     "name": "stdout",
     "output_type": "stream",
     "text": [
      "['oats', 'durum wheat', 'spring wheat', 'canola', 'barly', 'lentil']\n"
     ]
    }
   ],
   "source": [
    "## Your code here down\n",
    "\n",
    "crop_names = [\"lentil\", \"barly\", \"canola\", \"spring wheat\", \"durum wheat\", \"oats\"]\n",
    "\n",
    "def crop_rotation (crop_list):\n",
    "    reverted_list = []\n",
    "    for crop in range(len(crop_list)-1 ,-1 , -1):\n",
    "        reverted_list.append (crop_list[crop])\n",
    "    return reverted_list\n",
    "\n",
    "print (crop_rotation (crop_names))\n",
    "        \n",
    "## Your code here up"
   ]
  },
  {
   "cell_type": "markdown",
   "metadata": {},
   "source": [
    "# Exercise 8: Rainfall Analysis"
   ]
  },
  {
   "cell_type": "markdown",
   "metadata": {},
   "source": [
    "Create a function that takes a list of rainfall measurements (daily mm in a week) and returns the maximum and minimum rainfall values. Keys: min(), max(), lists"
   ]
  },
  {
   "cell_type": "code",
   "execution_count": 8,
   "metadata": {},
   "outputs": [
    {
     "name": "stdout",
     "output_type": "stream",
     "text": [
      "The maximum rainfall value is 1mm, and the minimun rainfall value is 45mm!\n"
     ]
    }
   ],
   "source": [
    "## Your code here down\n",
    "\n",
    "rainfall_measures = [1, 3, 6, 8, 9, 45, 45, 23]\n",
    "\n",
    "def rainfall_analysis (measures_rainfall):\n",
    "    min_rain = max(measures_rainfall)\n",
    "    max_rain = min(measures_rainfall)\n",
    "    return f\"The maximum rainfall value is {max_rain}mm, and the minimun rainfall value is {min_rain}mm!\"\n",
    "\n",
    "print (rainfall_analysis (rainfall_measures))\n",
    "\n",
    "## Your code here up"
   ]
  },
  {
   "cell_type": "markdown",
   "metadata": {},
   "source": [
    "## Exercise 9: Pest Control"
   ]
  },
  {
   "cell_type": "markdown",
   "metadata": {},
   "source": [
    "Create a function that takes the count of pests detected in a field and returns a recommendation for pest control based on the count. Please search for pests and pest control measures. Keys: if-else statement"
   ]
  },
  {
   "cell_type": "code",
   "execution_count": 11,
   "metadata": {},
   "outputs": [
    {
     "name": "stdout",
     "output_type": "stream",
     "text": [
      "We recommend Carbaryl Chemical control of pests\n"
     ]
    }
   ],
   "source": [
    "## Your code here down\n",
    "count_of_pests = 100\n",
    "\n",
    "def pest_control(count_pests):\n",
    "    if count_of_pests <= 10:\n",
    "        return \"We recommend Biological control of pests like Lady Bug Beetle or Green Lacewing\"\n",
    "    elif count_of_pests > 10 and count_of_pests <= 20:\n",
    "        return \"We recommend Abamectin Chemical control of pests\"\n",
    "    elif count_of_pests > 20 and count_of_pests <= 50:\n",
    "        return \"We recommend Acephate Chemical control of pests\"\n",
    "    elif count_of_pests > 50 and count_of_pests <= 100:\n",
    "        return \"We recommend Carbaryl Chemical control of pests\"\n",
    "    else:\n",
    "        return \"We recommend Chlorpyrifos Chemical control of pests\"\n",
    "    \n",
    "print(pest_control(count_of_pests))\n",
    "\n",
    "## Your code here up"
   ]
  },
  {
   "cell_type": "markdown",
   "metadata": {},
   "source": [
    "## Exercise 10: Weed Control"
   ]
  },
  {
   "cell_type": "markdown",
   "metadata": {},
   "source": [
    "Create a function that takes a list of weed names and suggests appropriate herbicides for weed control. Keys: For Loops and dictionary."
   ]
  },
  {
   "cell_type": "code",
   "execution_count": 14,
   "metadata": {},
   "outputs": [
    {
     "name": "stdout",
     "output_type": "stream",
     "text": [
      "The recommended herbicides to ['dandelion', 'crabgrass', 'goosegrass', 'nutgrass'] are ['Scotts Turf Builder', 'Bayer Crabgrass Killer', 'The Andersons Goosegrass and Crabgrass control', 'Monterey Nutgrass killer']!\n"
     ]
    }
   ],
   "source": [
    "## Your code here down\n",
    "\n",
    "weed_list = [\"dandelion\", \"crabgrass\", \"goosegrass\", \"nutgrass\"]\n",
    "\n",
    "def weed_control (list_weeds):\n",
    "    weed_dict = {\n",
    "      \"wild carrot\": \"Msm Turf Herbicide\",\n",
    "      \"chickweed\": \"Ortho Weed B Gone\",\n",
    "      \"dandelion\": \"Scotts Turf Builder\",\n",
    "      \"johnsongrass\": \"Eliminator Grass Killer \",\n",
    "      \"crabgrass\": \"Bayer Crabgrass Killer\",\n",
    "      \"goosegrass\": \"The Andersons Goosegrass and Crabgrass control\",\n",
    "      \"yellow nutsedge\": \"Image kills Nutsedge\",\n",
    "      \"nutgrass\": \"Monterey Nutgrass killer\"\n",
    "        }\n",
    "    herbicides = []\n",
    "    for i in list_weeds:\n",
    "        weed = i\n",
    "        for x in weed_dict:\n",
    "            if weed == x:\n",
    "                herbicides.append(weed_dict[x])\n",
    "    return herbicides\n",
    "\n",
    "print(f\"The recommended herbicides to {weed_list} are {weed_control (weed_list)}!\")\n",
    "         \n",
    "## Your code here up"
   ]
  }
 ],
 "metadata": {
  "kernelspec": {
   "display_name": "Python 3 (ipykernel)",
   "language": "python",
   "name": "python3"
  },
  "language_info": {
   "codemirror_mode": {
    "name": "ipython",
    "version": 3
   },
   "file_extension": ".py",
   "mimetype": "text/x-python",
   "name": "python",
   "nbconvert_exporter": "python",
   "pygments_lexer": "ipython3",
   "version": "3.11.4"
  }
 },
 "nbformat": 4,
 "nbformat_minor": 2
}
