{
 "cells": [
  {
   "cell_type": "markdown",
   "id": "7ee9ddaf",
   "metadata": {},
   "source": [
    "# Scoping"
   ]
  },
  {
   "cell_type": "code",
   "execution_count": null,
   "id": "73f7e91f",
   "metadata": {},
   "outputs": [],
   "source": [
    "# Financial Advising for Farmers, hired to to advise.\n",
    "# Where is the best area in the praires to invest in a farm with a rotation crop with mainly barley, and spring wheat\n"
   ]
  },
  {
   "cell_type": "markdown",
   "id": "cb74b4c4",
   "metadata": {},
   "source": [
    "# ETL (Extract, Transform, Load)"
   ]
  },
  {
   "cell_type": "code",
   "execution_count": null,
   "id": "822ad880",
   "metadata": {},
   "outputs": [],
   "source": [
    "import pandas as pd\n",
    "import numpy as np\n",
    "import matplotlib.pyplot as plt\n",
    "import geopandas as gpd\n",
    "import matplotlib.pyplot as plt\n",
    "import folium\n",
    "import seaborn as sb\n",
    "plt.rcParams['figure.figsize'] = [12, 8]"
   ]
  },
  {
   "cell_type": "markdown",
   "id": "19746815",
   "metadata": {},
   "source": [
    "# Yield"
   ]
  },
  {
   "cell_type": "code",
   "execution_count": null,
   "id": "f9efb961",
   "metadata": {},
   "outputs": [],
   "source": [
    "df_sk=pd.read_csv(\"C:/Users/prisc/Desktop/AG/Python Data Science/Project/Data/rm-yields-data.csv\")"
   ]
  },
  {
   "cell_type": "code",
   "execution_count": null,
   "id": "35fe3004-50a1-4cdd-b115-99a7ded9e435",
   "metadata": {},
   "outputs": [],
   "source": [
    "df_mb=pd.read_excel(\"C:/Users/prisc/Desktop/AG/Python Data Science/Project/Data/MMPP - Yield by Soil Type Browser.xlsx\")"
   ]
  },
  {
   "cell_type": "markdown",
   "id": "ef18388e",
   "metadata": {},
   "source": [
    "# Shapefiles"
   ]
  },
  {
   "cell_type": "code",
   "execution_count": null,
   "id": "03a7efe4",
   "metadata": {},
   "outputs": [],
   "source": [
    "gdf_sk = gpd.read_file(\"C:/Users/prisc/Desktop/AG/Python Data Science/Project/Data/RuralMunicipality.shp\")"
   ]
  },
  {
   "cell_type": "code",
   "execution_count": null,
   "id": "5bbce79d",
   "metadata": {},
   "outputs": [],
   "source": [
    "gdf_mb = gpd.read_file(\"C:/Users/prisc/Desktop/AG/Python Data Science/Project/Data/MB_Municipal_Boundaries.shp\")"
   ]
  },
  {
   "cell_type": "markdown",
   "id": "3c6442d8",
   "metadata": {},
   "source": [
    "# Transforming"
   ]
  },
  {
   "cell_type": "code",
   "execution_count": null,
   "id": "3c941702",
   "metadata": {},
   "outputs": [],
   "source": [
    "df_mb['Yield/acre(Metric)']= df_mb['Yield/acre(Metric)'].astype(str).str.replace(' Tonnes', '') # Replacing Tonnes\n",
    "df_mb['Yield/acre(Metric)']=df_mb['Yield/acre(Metric)'].replace('Tolerance', np.NaN) # Replacing Tolerance\n",
    "df_mb['Yield/acre(Metric)']=df_mb['Yield/acre(Metric)'].astype(float) # changing object to float data type\n"
   ]
  },
  {
   "cell_type": "code",
   "execution_count": null,
   "id": "82b0e030",
   "metadata": {},
   "outputs": [],
   "source": [
    "df_mb['Risk Area / R.M.'] = df_mb['Risk Area / R.M.'].str.replace('RM OF ','')\n",
    "df_mb['Risk Area / R.M.'] = df_mb['Risk Area / R.M.'].str.replace('RM OF ','')\n",
    "df_mb['Risk Area / R.M.'] = df_mb['Risk Area / R.M.'].str.replace('MUNICIPALITY OF ','', regex=False) # not caps sensitive\\n\",\n",
    "df_mb['Risk Area / R.M.'] = df_mb['Risk Area / R.M.'].str.replace(' MUNICIPALITY','', regex=False) # not caps sensitive\\n\",\n",
    "df_mb['Risk Area / R.M.'] = df_mb['Risk Area / R.M.'].str.replace('CITY OF ','', regex=False) # not caps sensitive\"\n",
    "   "
   ]
  },
  {
   "cell_type": "code",
   "execution_count": null,
   "id": "54a5793c",
   "metadata": {},
   "outputs": [],
   "source": [
    "df_mb_pivot=pd.pivot_table(df_mb.drop(columns=['Yield/acre(Metric).1', 'Yield/acre(Imperial)', 'Soil', 'Farms' ]),\n",
    "               index=['Risk Area / R.M.', 'Year'], columns='Crop', values='Yield/acre(Metric)')\\\n",
    "               .reset_index()"
   ]
  },
  {
   "cell_type": "code",
   "execution_count": null,
   "id": "10352360",
   "metadata": {},
   "outputs": [],
   "source": [
    "df_mb_clean=df_mb_pivot.rename(columns={\n",
    "    'Risk Area / R.M.': 'RM', \n",
    "    'ARGENTINE CANOLA': 'Canola', \n",
    "    'BARLEY':'Barley',\n",
    "    'CANARYSEED': 'Canary Seed', \n",
    "    'DURUM WHEAT': 'Durum Wheat', \n",
    "     'LENTILS': 'Lentils', \n",
    "     'OATS': 'Oats',\n",
    "    'RED SPRING WHEAT': 'Spring Wheat', \n",
    "    'WHITE PEA BEANS': 'Peas'}) \\\n",
    "        .drop(columns=['ALFALFA', 'FABABEANS', 'FABABEANS', 'POLISH CANOLA'] )"
   ]
  },
  {
   "cell_type": "code",
   "execution_count": null,
   "id": "cbb65db6",
   "metadata": {},
   "outputs": [],
   "source": [
    "df_sk_clean=df_sk.rename(columns={'Durum': 'Durum Wheat'}).drop(columns=['Winter Wheat', 'Mustard', 'Sunflowers', 'Fall Rye', 'Spring Rye', 'Tame Hay','Flax', 'Chickpeas' ] )"
   ]
  },
  {
   "cell_type": "code",
   "execution_count": null,
   "id": "803c521e",
   "metadata": {},
   "outputs": [],
   "source": [
    "# Crop conversion in MB tonnes to bushel\n",
    "df_mb_clean['Canola']=df_mb_clean['Canola'] * 44.092\n",
    "df_mb_clean['Barley']=df_mb_clean['Barley'] * 45.93\n",
    "df_mb_clean['Canary Seed']=df_mb_clean['Canary Seed'] * 44.092\n",
    "df_mb_clean['Durum Wheat']=df_mb_clean['Durum Wheat'] * 36.74\n",
    "df_mb_clean['Lentils']=df_mb_clean['Lentils'] * 36.74\n",
    "df_mb_clean['Oats']=df_mb_clean['Oats'] * 64.842\n",
    "df_mb_clean['Spring Wheat']=df_mb_clean['Spring Wheat'] * 36.74\n",
    "df_mb_clean['Peas']=df_mb_clean['Peas'] *  36.74"
   ]
  },
  {
   "cell_type": "code",
   "execution_count": null,
   "id": "e54d09cc",
   "metadata": {},
   "outputs": [],
   "source": [
    "# Crop Conversion in SK - pounds to bushels\n",
    "df_sk_clean['Lentils']=df_sk_clean['Lentils'] / 60\n",
    "df_sk_clean['Canary Seed']=df_sk_clean['Canary Seed'] / 50"
   ]
  },
  {
   "cell_type": "code",
   "execution_count": null,
   "id": "8e75ff03",
   "metadata": {},
   "outputs": [],
   "source": [
    "# Creating province column\n",
    "df_mb_clean['Province'] = 'MB'\n",
    "df_sk_clean['Province'] = 'SK'"
   ]
  },
  {
   "cell_type": "code",
   "execution_count": null,
   "id": "f77a3eb6",
   "metadata": {},
   "outputs": [],
   "source": [
    "df = pd.concat([df_mb_clean, df_sk_clean])"
   ]
  },
  {
   "cell_type": "code",
   "execution_count": null,
   "id": "f7dab183",
   "metadata": {},
   "outputs": [],
   "source": [
    "df.head()\n",
    "unique_rm_values = df['RM'].nunique()\n",
    "\n",
    "print(\"Number of unique values in RM:\", unique_rm_values)"
   ]
  },
  {
   "cell_type": "markdown",
   "id": "24c8a811",
   "metadata": {},
   "source": [
    "# EDA(Exploratory Data Analysis)"
   ]
  },
  {
   "cell_type": "markdown",
   "id": "9f23584b",
   "metadata": {},
   "source": [
    "# Missing Values"
   ]
  },
  {
   "cell_type": "code",
   "execution_count": null,
   "id": "1e42d664",
   "metadata": {},
   "outputs": [],
   "source": [
    "df.loc[df['Year']>2000].isna().sum().sort_values().plot(kind='bar', color='blue')\n",
    "plt.title('Missing Values - 2002 to 2021')\n",
    "plt.xlabel('Crops')\n",
    "plt.ylabel('# of Missing values')\n",
    "plt.axhline(len(df)/2, linestyle='--', color='red')\n",
    "plt.axhline(len(df)/4, linestyle='--', color='red')\n",
    "plt.axhline(len(df)/10, linestyle='--', color='red')\n",
    "plt.show()"
   ]
  },
  {
   "cell_type": "markdown",
   "id": "bc09e042",
   "metadata": {},
   "source": [
    "# Outliers"
   ]
  },
  {
   "cell_type": "markdown",
   "id": "bfd9226f",
   "metadata": {},
   "source": [
    "# Histograms"
   ]
  },
  {
   "cell_type": "code",
   "execution_count": null,
   "id": "45be47a4",
   "metadata": {},
   "outputs": [],
   "source": [
    "crop_columns=['Barley', 'Spring Wheat']"
   ]
  },
  {
   "cell_type": "code",
   "execution_count": null,
   "id": "338825c4",
   "metadata": {},
   "outputs": [],
   "source": [
    "df[crop_columns].hist(bins=300)\n",
    "plt.show()"
   ]
  },
  {
   "cell_type": "code",
   "execution_count": null,
   "id": "5faeeaac",
   "metadata": {},
   "outputs": [],
   "source": [
    "# Peorson Corr (-1 to 1), -1 negative corr, o no corr, 1 positive corr\n",
    "# Using Seaborn\n",
    "sb.heatmap(df[crop_columns].corr(),annot=True, cmap='Greens')"
   ]
  },
  {
   "cell_type": "markdown",
   "id": "b2eda96c",
   "metadata": {},
   "source": [
    "# Boxplots"
   ]
  },
  {
   "cell_type": "code",
   "execution_count": null,
   "id": "039a75ff",
   "metadata": {},
   "outputs": [],
   "source": [
    "def find_outliers(column):\n",
    "    Q1 = column.quantile(0.25)\n",
    "    Q3 = column.quantile(0.75)\n",
    "    IQR = Q3 - Q1\n",
    "    lower_bound = Q1 - 1.5 * IQR\n",
    "    upper_bound = Q3 + 1.5 * IQR\n",
    "    return column[(column < lower_bound) | (column > upper_bound)]\n",
    "\n",
    "# Find outliers for \"Barley\" and \"Spring Wheat\"\n",
    "barley_outliers = find_outliers(df['Barley'])\n",
    "spring_wheat_outliers = find_outliers(df['Spring Wheat'])\n",
    "\n",
    "print(\"Outliers for Barley:\")\n",
    "print(barley_outliers)\n",
    "\n",
    "print(\"\\nOutliers for Spring Wheat:\")\n",
    "print(spring_wheat_outliers)"
   ]
  },
  {
   "cell_type": "code",
   "execution_count": null,
   "id": "65399fef",
   "metadata": {},
   "outputs": [],
   "source": [
    "df[crop_columns].boxplot()"
   ]
  },
  {
   "cell_type": "code",
   "execution_count": null,
   "id": "97ee8dee",
   "metadata": {},
   "outputs": [],
   "source": [
    "df.loc[df['Spring Wheat']>180]"
   ]
  },
  {
   "cell_type": "code",
   "execution_count": null,
   "id": "933147a8",
   "metadata": {},
   "outputs": [],
   "source": [
    "df.drop(df[df['RM'] == 314].index, inplace=True)"
   ]
  },
  {
   "cell_type": "markdown",
   "id": "29b9fcbd",
   "metadata": {},
   "source": [
    "# GIS Analyis"
   ]
  },
  {
   "cell_type": "code",
   "execution_count": null,
   "id": "6fc17745",
   "metadata": {},
   "outputs": [],
   "source": [
    "# CRS --> Cordinate Reference Systems\n",
    "gdf_mb['geometry'].crs"
   ]
  },
  {
   "cell_type": "code",
   "execution_count": null,
   "id": "e2898d33",
   "metadata": {},
   "outputs": [],
   "source": [
    "# Standardazing CRS formats\n",
    "gdf_sk['geometry']=gdf_sk['geometry'].to_crs('epsg:4326')\n",
    "gdf_mb['geometry']=gdf_mb['geometry'].to_crs('epsg:4326')"
   ]
  },
  {
   "cell_type": "code",
   "execution_count": null,
   "id": "12cf26ce",
   "metadata": {},
   "outputs": [],
   "source": [
    "# Renaming column name\n",
    "gdf_sk['RMNO']=gdf_sk['RMNO'].astype(int)\n"
   ]
  },
  {
   "cell_type": "code",
   "execution_count": null,
   "id": "c2e92bb1",
   "metadata": {},
   "outputs": [],
   "source": [
    "gdf_mb['MUNI_NAME']=gdf_mb['MUNI_NAME'].str.replace('RM OF ','')"
   ]
  },
  {
   "cell_type": "code",
   "execution_count": null,
   "id": "0026baf9",
   "metadata": {},
   "outputs": [],
   "source": [
    "gdf=pd.concat([gdf_sk[['RMNO','geometry']].rename(columns={'RMNO':'RM'}),gdf_mb[['MUNI_NAME', 'geometry']].rename(columns={'MUNI_NAME':'RM'})])"
   ]
  },
  {
   "cell_type": "code",
   "execution_count": null,
   "id": "77669067",
   "metadata": {},
   "outputs": [],
   "source": [
    "gdf['RM']=gdf['RM'].astype('string')\n",
    "df['RM']=df['RM'].astype('string')"
   ]
  },
  {
   "cell_type": "code",
   "execution_count": null,
   "id": "891a4246",
   "metadata": {},
   "outputs": [],
   "source": [
    "gdf.plot()"
   ]
  },
  {
   "cell_type": "code",
   "execution_count": null,
   "id": "d45cc452",
   "metadata": {},
   "outputs": [],
   "source": [
    "# SQL inner join\n",
    "df_gdf=pd.merge(gdf, df, on='RM', how='inner') "
   ]
  },
  {
   "cell_type": "code",
   "execution_count": null,
   "id": "4fb5513f",
   "metadata": {},
   "outputs": [],
   "source": [
    "print('Before merging', gdf['RM'].nunique())\n",
    "print('After merging',df_gdf['RM'].nunique())"
   ]
  },
  {
   "cell_type": "code",
   "execution_count": null,
   "id": "818f640c",
   "metadata": {},
   "outputs": [],
   "source": [
    "ds=df_gdf.copy()"
   ]
  },
  {
   "cell_type": "markdown",
   "id": "2f95d301",
   "metadata": {},
   "source": [
    "# GIS Visualization"
   ]
  },
  {
   "cell_type": "code",
   "execution_count": null,
   "id": "efd64265",
   "metadata": {},
   "outputs": [],
   "source": [
    "ds.loc[ds['Year']>=2000].plot(column='Barley', \n",
    "                              legend=True,\n",
    "                              cmap='Greens', \n",
    "                              scheme=\"quantiles\",\n",
    "                              figsize=(15, 10),\n",
    "                              missing_kwds={ \"color\": \"lightgrey\",\n",
    "                                            \"edgecolor\": \"red\",\n",
    "                                            \"hatch\": \"///\",\n",
    "                                            \"label\": \"Missing values\",\n",
    "                                            },\n",
    "                              \n",
    "                              );"
   ]
  },
  {
   "cell_type": "code",
   "execution_count": null,
   "id": "12c7b0bb",
   "metadata": {},
   "outputs": [],
   "source": [
    "ds.loc[ds['Year']>=2000].plot(column='Spring Wheat', \n",
    "                              legend=True, \n",
    "                              cmap='OrRd', \n",
    "                              scheme=\"quantiles\",\n",
    "                              figsize=(15, 10),\n",
    "                              missing_kwds={ \"color\": \"lightgrey\",\n",
    "                                            \"edgecolor\": \"red\",\n",
    "                                            \"hatch\": \"///\",\n",
    "                                            \"label\": \"Missing values\",\n",
    "                                            },\n",
    "                              \n",
    "                              );"
   ]
  },
  {
   "cell_type": "markdown",
   "id": "e3f24352",
   "metadata": {},
   "source": [
    "# Agregations"
   ]
  },
  {
   "cell_type": "code",
   "execution_count": null,
   "id": "487e5843",
   "metadata": {},
   "outputs": [],
   "source": [
    "df_12_21=df.loc[df['Year']>2011].sort_values(['RM', 'Year'])"
   ]
  },
  {
   "cell_type": "code",
   "execution_count": null,
   "id": "40183a39",
   "metadata": {},
   "outputs": [],
   "source": [
    "fig, axes = plt.subplots(5, 2, figsize=(15, 20))\n",
    "years = df_12_21['Year'].unique()\n",
    "\n",
    "for i, year in enumerate(years):\n",
    "    if i<10:\n",
    "        ax = axes[i // 2, i % 2]\n",
    "        merged_df = pd.merge(gdf, df_12_21.loc[df_12_21['Year'] == year], on='RM')\n",
    "        merged_df.plot(column='Barley', cmap='RdYlGn', legend=True, ax=ax)\n",
    "        ax.set_title(f' Barley in {year}', color='Black', size=12)\n",
    "\n",
    "plt.tight_layout()\n",
    "plt.show()"
   ]
  },
  {
   "cell_type": "code",
   "execution_count": null,
   "id": "dcd8cbda",
   "metadata": {},
   "outputs": [],
   "source": [
    "fig, axes = plt.subplots(5, 2, figsize=(15, 20))\n",
    "years = df_12_21['Year'].unique()\n",
    "\n",
    "for i, year in enumerate(years):\n",
    "    if i<10:\n",
    "        ax = axes[i // 2, i % 2]\n",
    "        merged_df = pd.merge(gdf, df_12_21.loc[df_12_21['Year'] == year], on='RM')\n",
    "        merged_df.plot(column='Spring Wheat', cmap='RdYlGn', legend=True, ax=ax)\n",
    "        ax.set_title(f' Spring Wheat Yield in {year}', color='Black', size=12)\n",
    "\n",
    "plt.tight_layout()\n",
    "plt.show()"
   ]
  },
  {
   "cell_type": "code",
   "execution_count": null,
   "id": "403f6798",
   "metadata": {},
   "outputs": [],
   "source": [
    "# Calculate the average 5 most productable cities for barley, and spring wheat in the last 20 years.\n",
    "\n",
    "current_year = pd.Timestamp.now().year  # Get the current year\n",
    "start_year = current_year - 19  # Calculate the starting year for the last 20 years\n",
    "\n",
    "filtered_data = df[df['Year'] >= start_year]\n",
    "\n",
    "# Group the data by the RM column and calculate the mean for specific columns\n",
    "columns_to_average = ['Barley', 'Spring Wheat',]\n",
    "result = filtered_data.groupby(['RM', 'Province'])[columns_to_average].mean().reset_index()\n",
    "\n",
    "result_sorted_barley = result.sort_values('Barley', ascending=False)\n",
    "result_sorted_wheat = result.sort_values('Spring Wheat', ascending=False)\n",
    "\n",
    "top_5_barley = result_sorted_barley.head(5)\n",
    "top_5_barley = top_5_barley.drop('Spring Wheat', axis = 1)\n",
    "top_5_spring_wheat = result_sorted_wheat.head(5)\n",
    "top_5_spring_wheat = top_5_spring_wheat.drop('Barley', axis = 1)\n",
    "\n",
    "print(top_5_spring_wheat)\n",
    "print(top_5_barley)\n",
    "\n"
   ]
  },
  {
   "cell_type": "code",
   "execution_count": null,
   "id": "f646967e",
   "metadata": {},
   "outputs": [],
   "source": [
    "#Create the estimative revenue for these cities\n",
    "barley_price = 6.86 #Average price barley per bushel in 2021\n",
    "spring_wheat_price = 9.76 #Average price spring_wheat (https://afsc.ca/wp-content/uploads/2021/06/2021-Feed-Grain.pdf)\n",
    "\n",
    "top_5_barley['Estimated_Revenue'] = barley_price * top_5_barley['Barley']\n",
    "top_5_spring_wheat['Estimated_Revenue'] = spring_wheat_price * top_5_spring_wheat['Spring Wheat']\n",
    "\n",
    "print (top_5_barley)\n",
    "print (top_5_spring_wheat)\n"
   ]
  },
  {
   "cell_type": "code",
   "execution_count": null,
   "id": "62328007",
   "metadata": {},
   "outputs": [],
   "source": [
    "# Create bar graphs for the top 5 cities for Barley and Spring Wheat\n",
    "plt.figure(figsize=(12, 6))\n",
    "plt.subplot(121)  # Bar graph for Barley\n",
    "bar_width = 0.7\n",
    "\n",
    "plt.bar(top_5_barley['RM'] + \" / \" + top_5_barley['Province'] , top_5_barley['Barley'], width = bar_width)\n",
    "plt.title('Top 5 Cities for Barley (Last 20 Years)')\n",
    "plt.xlabel('City (Province)')\n",
    "plt.ylabel('Average Yield for Barley')\n",
    "plt.xticks(rotation=45)  # Rotate x-axis labels by 45 degrees\n",
    "\n",
    "plt.subplot(122)  # Bar graph for Spring Wheat\n",
    "plt.bar(top_5_spring_wheat['RM']+ \" / \" + top_5_spring_wheat['Province'], top_5_spring_wheat['Spring Wheat'], width = bar_width)\n",
    "plt.title('Top 5 Cities for Spring Wheat (Last 20 Years)')\n",
    "plt.xlabel('City (Province)')\n",
    "plt.ylabel('Average Yield for Spring Wheat')\n",
    "plt.xticks(rotation=45)  # Rotate x-axis labels by 45 degrees\n",
    "\n",
    "plt.tight_layout()\n",
    "plt.show()\n"
   ]
  },
  {
   "cell_type": "code",
   "execution_count": null,
   "id": "8037e52f",
   "metadata": {},
   "outputs": [],
   "source": [
    "from matplotlib.ticker import FormatStrFormatter\n",
    "# Filter the data for the RM 'Louise' and starting year 2002\n",
    "rm_mac_data = df[(df['RM'] == 'LOUISE') & (df['Year'] >= 2001)]\n",
    "# Convert the \"Year\" column to integers\n",
    "fig, ax = plt.subplots()\n",
    "ax.plot(rm_mac_data['Year'], rm_mac_data['Barley'], marker='o', linestyle='-', label='Barley')\n",
    "ax.plot(rm_mac_data['Year'], rm_mac_data['Spring Wheat'], marker='o', linestyle='--', label='Spring Wheat')\n",
    "plt.title('Production of Barley and Spring Wheat in Louise Over the Years')\n",
    "plt.ylabel('Production')\n",
    "plt.xlabel('Year')\n",
    "ax.xaxis.set_major_formatter(FormatStrFormatter('%d'))\n",
    "plt.grid()\n",
    "plt.show()"
   ]
  },
  {
   "cell_type": "code",
   "execution_count": null,
   "id": "cbcf7f26",
   "metadata": {},
   "outputs": [],
   "source": [
    "agg_funcs = {\n",
    "    column: ['mean', 'std', 'median'] for column in crop_columns\n",
    "}\n",
    "\n",
    "df_agg = df_12_21.set_index('RM')[crop_columns].groupby('RM').agg(agg_funcs)\n",
    "\n",
    "# Optionally, to flatten the multi-level columns:\n",
    "df_agg.columns = ['_'.join(col).strip() for col in df_agg.columns.values]\n",
    "\n",
    "# Dropping missing values for Barley mean.\n",
    "df_agg=df_agg.dropna(subset='Barley_mean')\n",
    "df_agg=df_agg.dropna(subset='Spring Wheat_mean')\n",
    "df_agg=df_agg.dropna(subset='Barley_std')\n",
    "df_agg=df_agg.dropna(subset='Spring Wheat_std')\n",
    "df_agg.to_csv ('/Users/prisc/Desktop/stats.csv')\n"
   ]
  },
  {
   "cell_type": "markdown",
   "id": "8b004074",
   "metadata": {},
   "source": [
    "# Feature Selection"
   ]
  },
  {
   "cell_type": "code",
   "execution_count": null,
   "id": "8b004f72",
   "metadata": {},
   "outputs": [],
   "source": [
    "import os\n",
    "\n",
    "# Set OMP_NUM_THREADS to 2 to avoid the memory leak issue\n",
    "os.environ['OMP_NUM_THREADS'] = \"2\"\n",
    "\n",
    "# Importing library\n",
    "from sklearn.cluster import KMeans \n",
    "\n",
    "X = df_agg.loc[:,['Barley_mean', 'Barley_std', 'Spring Wheat_mean', 'Spring Wheat_std']]\n",
    "\n",
    "from sklearn.metrics import silhouette_score\n",
    "n_clusters = [2,3,4,5,6,7,8,9,10,11,12,13,14,15] # number of clusters\n",
    "clusters_inertia = [] # inertia of clusters\n",
    "s_scores = [] # silhouette scores\n",
    "\n",
    "for n in n_clusters:\n",
    "    KM = KMeans(n_clusters=n, init='k-means++', n_init=10).fit(X)\n",
    "    clusters_inertia.append(KM.inertia_)    # data for the elbow method\n",
    "    silhouette_avg = silhouette_score(X, KM.labels_)\n",
    "    s_scores.append(silhouette_avg) # data for the silhouette score method\n"
   ]
  },
  {
   "cell_type": "code",
   "execution_count": null,
   "id": "7810f74a",
   "metadata": {},
   "outputs": [],
   "source": [
    "plt.figure(figsize=(10,5))\n",
    "plt.scatter(x= X['Barley_mean'], y=X['Barley_std'])\n",
    "plt.xlabel('Barley_mean')\n",
    "plt.ylabel('Barley_std');"
   ]
  },
  {
   "cell_type": "code",
   "execution_count": null,
   "id": "9fce7bea",
   "metadata": {},
   "outputs": [],
   "source": [
    "plt.figure(figsize=(10,5))\n",
    "plt.scatter(x= X['Spring Wheat_mean'], y=X['Spring Wheat_std'])\n",
    "plt.xlabel('Spring Wheat_mean')\n",
    "plt.ylabel('Spring Wheat_std');"
   ]
  },
  {
   "cell_type": "markdown",
   "id": "24b8a73e",
   "metadata": {},
   "source": [
    "# Elbow Method"
   ]
  },
  {
   "cell_type": "code",
   "execution_count": null,
   "id": "b2afb639",
   "metadata": {},
   "outputs": [],
   "source": [
    "fig, ax = plt.subplots(figsize=(12,5))\n",
    "ax.plot(n_clusters, clusters_inertia, 'o-', color='blue', label='Elbow Method')\n",
    "ax.set_title(\"Elbow Method\")\n",
    "ax.set_xlabel(\"Number of Clusters\")\n",
    "ax.set_ylabel(\"Clusters Inertia\")\n",
    "ax.axvline(6, ls=\"--\", c=\"red\")\n",
    "plt.grid()\n",
    "plt.legend()\n",
    "plt.show()"
   ]
  },
  {
   "cell_type": "code",
   "execution_count": null,
   "id": "d148fccb",
   "metadata": {},
   "outputs": [],
   "source": [
    "fig, ax = plt.subplots(figsize=(12,5))\n",
    "ax.plot(n_clusters, s_scores, 's-', color='green', label='Silhouette Score Method')\n",
    "ax.set_title(\"Silhouette Score Method\")\n",
    "ax.set_xlabel(\"Number of Clusters\")\n",
    "ax.set_ylabel(\"Silhouette Score\")\n",
    "ax.axvline(6, ls=\"--\", c=\"red\")\n",
    "plt.grid()\n",
    "plt.legend()\n",
    "plt.show()"
   ]
  },
  {
   "cell_type": "code",
   "execution_count": null,
   "id": "769c34f1",
   "metadata": {},
   "outputs": [],
   "source": [
    "kmeans = KMeans(n_clusters=6, init='k-means++', random_state=42, n_init=10)\n",
    "X['Clusters_6']=kmeans.fit_predict(X)"
   ]
  },
  {
   "cell_type": "code",
   "execution_count": null,
   "id": "0ee16bd6",
   "metadata": {},
   "outputs": [],
   "source": [
    "custom_palette = [\"red\", \"green\", \"blue\", \"orange\", \"purple\", \"pink\"]\n",
    "sb.scatterplot(data=X, x='Barley_mean', y='Barley_std', hue='Clusters_6', palette=custom_palette)\n",
    "plt.title('Barley Clustering Mean and Std | 2003-2022 | K-Means ', size =14)\n",
    "plt.show()"
   ]
  },
  {
   "cell_type": "code",
   "execution_count": null,
   "id": "91bf8037",
   "metadata": {},
   "outputs": [],
   "source": [
    "custom_palette = [\"magenta\", \"olive\", \"brown\", \"yellow\", \"black\", \"grey\"]\n",
    "sb.scatterplot(data=X, x='Spring Wheat_mean', y='Spring Wheat_std', hue='Clusters_6', palette=custom_palette)\n",
    "plt.title('Spring Wheat Clustering Mean and Std | 2003-2022 | K-Means ', size =14)\n",
    "plt.show()"
   ]
  },
  {
   "cell_type": "code",
   "execution_count": null,
   "id": "fe692c1d",
   "metadata": {},
   "outputs": [],
   "source": [
    "X.groupby('Clusters_6').mean()\\\n",
    "    .sort_values('Barley_mean')[['Barley_mean',\t'Barley_std']]"
   ]
  },
  {
   "cell_type": "code",
   "execution_count": null,
   "id": "00fd07af",
   "metadata": {},
   "outputs": [],
   "source": [
    "# Ranking based on the mean Barley\n",
    "X['Clusters_6_ranked']=X['Clusters_6'].replace(to_replace={\n",
    "    5:0,\n",
    "    4:1,\n",
    "    0:2,\n",
    "    2:3,\n",
    "    3:4,\n",
    "    1:5,\n",
    "})"
   ]
  },
  {
   "cell_type": "code",
   "execution_count": null,
   "id": "e8a3e1d5",
   "metadata": {},
   "outputs": [],
   "source": [
    "pd.merge(\n",
    "    gdf,\n",
    "    X,\n",
    "    on='RM'\n",
    ").explore(column='Clusters_6_ranked', legend='True', k=6, scheme='naturalbreaks', cmap='Oranges')"
   ]
  },
  {
   "cell_type": "code",
   "execution_count": null,
   "id": "e77be7ee",
   "metadata": {},
   "outputs": [],
   "source": [
    "X.groupby('Clusters_6').mean().sort_values('Spring Wheat_mean')[['Spring Wheat_mean',\t'Spring Wheat_std']]"
   ]
  },
  {
   "cell_type": "code",
   "execution_count": null,
   "id": "f15c9bc6",
   "metadata": {},
   "outputs": [],
   "source": [
    "# Ranking based on the mean\n",
    "X['Clusters_6_ranked']=X['Clusters_6'].replace(to_replace={\n",
    "    5:0,\n",
    "    4:1,\n",
    "    0:2,\n",
    "    2:3,\n",
    "    3:4,\n",
    "    1:5,\n",
    "})"
   ]
  },
  {
   "cell_type": "code",
   "execution_count": null,
   "id": "9b972738",
   "metadata": {},
   "outputs": [],
   "source": [
    "pd.merge(\n",
    "    gdf,\n",
    "    X,\n",
    "    on='RM'\n",
    ").explore(column='Clusters_6_ranked', legend='True', k=6, scheme='naturalbreaks', cmap='Purples')"
   ]
  },
  {
   "cell_type": "code",
   "execution_count": null,
   "id": "3842f43e",
   "metadata": {},
   "outputs": [],
   "source": []
  }
 ],
 "metadata": {
  "kernelspec": {
   "display_name": "geo_env",
   "language": "python",
   "name": "geo_env"
  },
  "language_info": {
   "codemirror_mode": {
    "name": "ipython",
    "version": 3
   },
   "file_extension": ".py",
   "mimetype": "text/x-python",
   "name": "python",
   "nbconvert_exporter": "python",
   "pygments_lexer": "ipython3",
   "version": "3.12.0"
  }
 },
 "nbformat": 4,
 "nbformat_minor": 5
}
