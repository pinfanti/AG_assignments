{
 "cells": [
  {
   "cell_type": "markdown",
   "metadata": {},
   "source": [
    "# Assignment 3"
   ]
  },
  {
   "cell_type": "markdown",
   "metadata": {},
   "source": [
    "**Please follow the instructions. Do not add new cell! Write your code in designated areas.**"
   ]
  },
  {
   "cell_type": "code",
   "execution_count": 23,
   "metadata": {},
   "outputs": [
    {
     "name": "stdout",
     "output_type": "stream",
     "text": [
      "Assignment 1 & 2: Solutions by Priscila\n",
      "Local Time: 2023-09-24 11:58:08\n",
      "Computer ID: LAPTOP-P0GF0AOM\n"
     ]
    }
   ],
   "source": [
    "import datetime\n",
    "import socket\n",
    "\n",
    "# Get local time\n",
    "local_time = datetime.datetime.now().strftime(\"%Y-%m-%d %H:%M:%S\")\n",
    "\n",
    "# Get computer ID or hostname\n",
    "computer_id = socket.gethostname()\n",
    "\n",
    "# Print output with local time and computer ID\n",
    "print('Assignment 1 & 2: Solutions by Priscila') # Please change your name here\n",
    "print('Local Time:', local_time)\n",
    "print('Computer ID:', computer_id)"
   ]
  },
  {
   "cell_type": "markdown",
   "metadata": {},
   "source": [
    "## NumPy"
   ]
  },
  {
   "cell_type": "markdown",
   "metadata": {},
   "source": [
    "1. Create a 2D numpy array of size 4x5 with random integers between 1 and 10. Find the maximum value of the entire array. \n"
   ]
  },
  {
   "cell_type": "code",
   "execution_count": 29,
   "metadata": {},
   "outputs": [
    {
     "name": "stdout",
     "output_type": "stream",
     "text": [
      "10\n"
     ]
    }
   ],
   "source": [
    "## Your code here down\n",
    "\n",
    "import numpy as np\n",
    "import random\n",
    "\n",
    "a = np.random.randint(1, 11, size=(4, 5))\n",
    "#print(a)\n",
    "\n",
    "# 4x5 array:\n",
    "max_value = a.max()\n",
    "\n",
    "#print maximum value:\n",
    "print (max_value)\n",
    "\n",
    "## Your code here up"
   ]
  },
  {
   "cell_type": "markdown",
   "metadata": {},
   "source": [
    "2. Create a 1D numpy array of size 20 with random floats between 0 and 1. Reshape the array into a 4x5 matrix. Compute the mean of each row."
   ]
  },
  {
   "cell_type": "code",
   "execution_count": 26,
   "metadata": {},
   "outputs": [
    {
     "name": "stdout",
     "output_type": "stream",
     "text": [
      "[0.59303451 0.29025871 0.57456797 0.47184941]\n"
     ]
    }
   ],
   "source": [
    "## Your code here down\n",
    "import numpy as np\n",
    "import random\n",
    "\n",
    "# 1D numpy array of size 20:\n",
    "a = np.random.random(size=(20))\n",
    "#print (a)\n",
    "\n",
    "# Reshaped array:\n",
    "reshaped_array = a.reshape(4,5)\n",
    "#print (reshaped_array.shape)\n",
    "#print (reshaped_array)\n",
    "\n",
    "#print mean of each row:\n",
    "mean_row = np.mean(reshaped_array, axis = 1)\n",
    "print(mean_row)\n",
    "\n",
    "## Your code here up"
   ]
  },
  {
   "cell_type": "markdown",
   "metadata": {},
   "source": [
    "3. Create a 2D numpy array of size 5x5 with random integers between 1 and 100. Compute standard deviation of each column."
   ]
  },
  {
   "cell_type": "code",
   "execution_count": 33,
   "metadata": {},
   "outputs": [
    {
     "name": "stdout",
     "output_type": "stream",
     "text": [
      "[17.26731016 20.02997753 32.40617225 26.97702726 31.66701754]\n"
     ]
    }
   ],
   "source": [
    "## Your code here down\n",
    "\n",
    "import numpy as np\n",
    "import random\n",
    "\n",
    "a = np.random.randint(1, 101, size=(5, 5))\n",
    "#print(a)\n",
    "\n",
    "#Compute standard deviation of each column:\n",
    "std_dev_a = np.std(a, axis = 0)\n",
    "print (std_dev_a)\n",
    "\n",
    "## Your code here up"
   ]
  },
  {
   "cell_type": "markdown",
   "metadata": {},
   "source": [
    "4. Create a 1D numpy array of size 15 with random floats between -10 and 10. Replace all negative values with their absolute values."
   ]
  },
  {
   "cell_type": "code",
   "execution_count": 35,
   "metadata": {},
   "outputs": [
    {
     "name": "stdout",
     "output_type": "stream",
     "text": [
      "[0.16881    5.48167129 5.53015932 6.71683486 4.81101501 9.04159794\n",
      " 6.67818406 1.56686298 4.20803064 9.73636944 0.91505431 8.93907869\n",
      " 6.69954053 6.10312655 5.01750856]\n"
     ]
    }
   ],
   "source": [
    "## Your code here down\n",
    "\n",
    "import numpy as np\n",
    "import random\n",
    "\n",
    "# 1D numpy array of size 15:\n",
    "a = np.random.uniform(-10, 10, 15)\n",
    "#print(a)\n",
    "\n",
    "#Replace all negative values with absolute values:\n",
    "replaced_array = np.abs(a)\n",
    "print (replaced_array)\n",
    "\n",
    "\n",
    "## Your code here up"
   ]
  },
  {
   "cell_type": "markdown",
   "metadata": {},
   "source": [
    "5. Create a 2D numpy array of size 3x4 with random integers between 1 and 100. Calculate the sum of all elements in the array."
   ]
  },
  {
   "cell_type": "code",
   "execution_count": 39,
   "metadata": {},
   "outputs": [
    {
     "name": "stdout",
     "output_type": "stream",
     "text": [
      "658\n"
     ]
    }
   ],
   "source": [
    "## Your code here down\n",
    "import numpy as np\n",
    "import random\n",
    "\n",
    "#2D numpy array 3x4 size:\n",
    "x = np.random.randint(1, 101, size=(3, 4))\n",
    "#print(x)\n",
    "\n",
    "#Sum of all elements in the array:\n",
    "sum_x = np.sum(x)\n",
    "print(sum_x)\n",
    "\n",
    "\n",
    "## Your code here up"
   ]
  },
  {
   "cell_type": "markdown",
   "metadata": {},
   "source": [
    "7. Create a 2D numpy array of size 4x6 with random floats between 0 and 1. Normalize each column by subtracting the column mean and dividing by the column standard deviation."
   ]
  },
  {
   "cell_type": "code",
   "execution_count": 42,
   "metadata": {},
   "outputs": [
    {
     "name": "stdout",
     "output_type": "stream",
     "text": [
      "[[-0.93318368  1.6496868   0.20408226 -0.70464653 -0.9871976  -0.98733748]\n",
      " [ 0.50134097 -0.1937124  -0.31777309 -1.04206661  0.87972019  1.58818748]\n",
      " [ 1.39587504 -0.42708999 -1.33076186  0.20549914 -1.00592105 -0.70186918]\n",
      " [-0.96403233 -1.0288844   1.44445269  1.54121399  1.11339846  0.10101918]]\n"
     ]
    }
   ],
   "source": [
    "## Your code here down\n",
    "\n",
    "import numpy as np\n",
    "import random\n",
    "\n",
    "#2D numpy array 4x6 size:\n",
    "x = np.random.rand(4, 6)\n",
    "#print(x)\n",
    "\n",
    "#mean:\n",
    "c_mean = np.mean(x, axis = 0)\n",
    "#print(c_mean)\n",
    "\n",
    "#standard deviation:\n",
    "c_std = np.std(x, axis = 0)\n",
    "#print(c_std)\n",
    "\n",
    "#Normalize\n",
    "norm_x = (x - c_mean)/c_std\n",
    "print(norm_x)\n",
    "\n",
    "## Your code here up"
   ]
  },
  {
   "cell_type": "markdown",
   "metadata": {},
   "source": [
    "8. Create a 2D numpy array of size 10x10 with random integers between 1 and 100. Replace all values greater than 50 with 1 and all other values with 0."
   ]
  },
  {
   "cell_type": "code",
   "execution_count": 45,
   "metadata": {},
   "outputs": [
    {
     "name": "stdout",
     "output_type": "stream",
     "text": [
      "[[1 1 1 1 0 1 0 1 0 1]\n",
      " [1 1 1 1 1 1 0 1 1 0]\n",
      " [0 0 0 0 0 1 0 0 1 0]\n",
      " [1 1 0 1 1 1 1 1 0 0]\n",
      " [0 0 1 0 1 1 0 0 0 1]\n",
      " [0 1 0 0 0 1 0 0 1 0]\n",
      " [0 1 0 1 1 0 1 0 0 0]\n",
      " [1 1 1 1 0 0 1 0 1 0]\n",
      " [0 0 1 1 0 0 0 1 0 0]\n",
      " [1 0 1 0 1 1 0 0 0 1]]\n"
     ]
    }
   ],
   "source": [
    "## Your code here down\n",
    "\n",
    "import numpy as np\n",
    "import random\n",
    "\n",
    "#10x10 array, integers between 1 and 100:\n",
    "x = np.random.randint(1, 101, (10, 10))\n",
    "#print (x)\n",
    "\n",
    "# Replace values:\n",
    "rep_x = np.where(x > 50, 1, 0)\n",
    "print (rep_x)\n",
    "\n",
    "## Your code here up"
   ]
  },
  {
   "cell_type": "markdown",
   "metadata": {},
   "source": [
    "9. Create a 1D numpy array of size 50 with random floats between 0 and 1. Find the number of elements greater than 0.5."
   ]
  },
  {
   "cell_type": "code",
   "execution_count": 47,
   "metadata": {},
   "outputs": [
    {
     "name": "stdout",
     "output_type": "stream",
     "text": [
      "27\n"
     ]
    }
   ],
   "source": [
    "## Your code here down\n",
    "\n",
    "import numpy as np\n",
    "import random\n",
    "\n",
    "#Array size 50:\n",
    "x = np.random.rand(50)\n",
    "#print(x)\n",
    "\n",
    "#Find the number os elements greater:\n",
    "greater_x = np.sum(x >0.5)\n",
    "print (greater_x)\n",
    "\n",
    "## Your code here up"
   ]
  },
  {
   "cell_type": "markdown",
   "metadata": {},
   "source": [
    "10. Create a 2D numpy array of size 5x5 with random floats between -1 and 1. Find the absolute difference between the maximum and minimum values in each row."
   ]
  },
  {
   "cell_type": "code",
   "execution_count": 52,
   "metadata": {},
   "outputs": [
    {
     "name": "stdout",
     "output_type": "stream",
     "text": [
      "[1.40600417 1.25741076 0.60826462 0.76845966 1.83220803]\n"
     ]
    }
   ],
   "source": [
    "## Your code here down\n",
    "\n",
    "import numpy as np\n",
    "import random\n",
    "\n",
    "#Array 5X5:\n",
    "x = np.random.uniform(-1, 1, (5,5))\n",
    "#print(x)\n",
    "\n",
    "# max and min:\n",
    "row_max = np.max(x, axis = 1)\n",
    "row_min = np.min(x, axis = 1)\n",
    "#print(row_max)\n",
    "#print(row_min)\n",
    "\n",
    "#Diference:\n",
    "dif = row_max - row_min\n",
    "#print(dif)\n",
    "\n",
    "#Absolute Diference:\n",
    "abs_dif = np.abs (dif)\n",
    "print (abs_dif)\n",
    "\n",
    "## Your code here up"
   ]
  },
  {
   "cell_type": "markdown",
   "metadata": {},
   "source": [
    "## Pandas"
   ]
  },
  {
   "cell_type": "markdown",
   "metadata": {},
   "source": [
    "Please refer the dataframe (farm data) we have created in the training. Please copy that cell and paste it below before starting this part. "
   ]
  },
  {
   "cell_type": "code",
   "execution_count": 55,
   "metadata": {},
   "outputs": [],
   "source": [
    "import random\n",
    "import pandas as pd\n",
    "\n",
    "# Define the range for longitude and latitude\n",
    "lon_range = (-105, -100)\n",
    "lat_range = (50, 52)\n",
    "\n",
    "# Define the list of soil types\n",
    "soil_types = ['black', 'gray', 'dark brown', 'brown', None]\n",
    "\n",
    "# Create an empty list to store the farms\n",
    "farms = []\n",
    "\n",
    "# Generate 40 farms\n",
    "for i in range(200):\n",
    "    farm = {\n",
    "        'farm_name': f'Farm {i+1}', # f is formated string\n",
    "        'farm_lon': round(random.uniform(lon_range[0], lon_range[1]), 2), # random lon with 2 decimal points\n",
    "        'farm_lat': round(random.uniform(lat_range[0], lat_range[1]), 2), # rantom lat with 2 decimal points\n",
    "        'temperature': round(random.uniform(18, 33), 1), #random temp with 1 decimal points\n",
    "        'precipitation': round(random.uniform(20, 90), 1), # random prec with 1 decimal points\n",
    "        'soil_type': random.choice(soil_types) # random soil types from above list\n",
    "    }\n",
    "    farms.append(farm)"
   ]
  },
  {
   "cell_type": "code",
   "execution_count": 72,
   "metadata": {},
   "outputs": [
    {
     "data": {
      "text/html": [
       "<div>\n",
       "<style scoped>\n",
       "    .dataframe tbody tr th:only-of-type {\n",
       "        vertical-align: middle;\n",
       "    }\n",
       "\n",
       "    .dataframe tbody tr th {\n",
       "        vertical-align: top;\n",
       "    }\n",
       "\n",
       "    .dataframe thead th {\n",
       "        text-align: right;\n",
       "    }\n",
       "</style>\n",
       "<table border=\"1\" class=\"dataframe\">\n",
       "  <thead>\n",
       "    <tr style=\"text-align: right;\">\n",
       "      <th></th>\n",
       "      <th>farm_name</th>\n",
       "      <th>farm_lon</th>\n",
       "      <th>farm_lat</th>\n",
       "      <th>temperature</th>\n",
       "      <th>precipitation</th>\n",
       "      <th>soil_type</th>\n",
       "    </tr>\n",
       "  </thead>\n",
       "  <tbody>\n",
       "    <tr>\n",
       "      <th>0</th>\n",
       "      <td>Farm 1</td>\n",
       "      <td>-104.49</td>\n",
       "      <td>50.57</td>\n",
       "      <td>19.8</td>\n",
       "      <td>75.0</td>\n",
       "      <td>brown</td>\n",
       "    </tr>\n",
       "    <tr>\n",
       "      <th>1</th>\n",
       "      <td>Farm 2</td>\n",
       "      <td>-103.35</td>\n",
       "      <td>50.65</td>\n",
       "      <td>27.6</td>\n",
       "      <td>54.2</td>\n",
       "      <td>None</td>\n",
       "    </tr>\n",
       "    <tr>\n",
       "      <th>2</th>\n",
       "      <td>Farm 3</td>\n",
       "      <td>-103.20</td>\n",
       "      <td>51.11</td>\n",
       "      <td>27.2</td>\n",
       "      <td>47.9</td>\n",
       "      <td>black</td>\n",
       "    </tr>\n",
       "    <tr>\n",
       "      <th>3</th>\n",
       "      <td>Farm 4</td>\n",
       "      <td>-102.80</td>\n",
       "      <td>51.05</td>\n",
       "      <td>31.9</td>\n",
       "      <td>45.0</td>\n",
       "      <td>black</td>\n",
       "    </tr>\n",
       "    <tr>\n",
       "      <th>4</th>\n",
       "      <td>Farm 5</td>\n",
       "      <td>-104.35</td>\n",
       "      <td>50.41</td>\n",
       "      <td>32.8</td>\n",
       "      <td>24.7</td>\n",
       "      <td>gray</td>\n",
       "    </tr>\n",
       "  </tbody>\n",
       "</table>\n",
       "</div>"
      ],
      "text/plain": [
       "  farm_name  farm_lon  farm_lat  temperature  precipitation soil_type\n",
       "0    Farm 1   -104.49     50.57         19.8           75.0     brown\n",
       "1    Farm 2   -103.35     50.65         27.6           54.2      None\n",
       "2    Farm 3   -103.20     51.11         27.2           47.9     black\n",
       "3    Farm 4   -102.80     51.05         31.9           45.0     black\n",
       "4    Farm 5   -104.35     50.41         32.8           24.7      gray"
      ]
     },
     "execution_count": 72,
     "metadata": {},
     "output_type": "execute_result"
    }
   ],
   "source": [
    "df = pd.DataFrame(farms)\n",
    "df.head()"
   ]
  },
  {
   "cell_type": "markdown",
   "metadata": {},
   "source": [
    "1. Select the rows where the temperature is above 20 degrees Celsius."
   ]
  },
  {
   "cell_type": "code",
   "execution_count": 64,
   "metadata": {},
   "outputs": [
    {
     "name": "stdout",
     "output_type": "stream",
     "text": [
      "    farm_name  farm_lon  farm_lat  temperature  precipitation   soil_type\n",
      "1      Farm 2   -103.35     50.65         27.6           54.2        None\n",
      "2      Farm 3   -103.20     51.11         27.2           47.9       black\n",
      "3      Farm 4   -102.80     51.05         31.9           45.0       black\n",
      "4      Farm 5   -104.35     50.41         32.8           24.7        gray\n",
      "5      Farm 6   -102.37     50.36         23.7           82.7       black\n",
      "..        ...       ...       ...          ...            ...         ...\n",
      "195  Farm 196   -103.26     50.54         32.2           47.1        None\n",
      "196  Farm 197   -100.72     50.36         21.5           56.7  dark brown\n",
      "197  Farm 198   -103.25     51.53         32.8           86.4  dark brown\n",
      "198  Farm 199   -101.38     51.71         31.0           34.0  dark brown\n",
      "199  Farm 200   -100.68     50.23         20.5           75.2       brown\n",
      "\n",
      "[178 rows x 6 columns]\n"
     ]
    }
   ],
   "source": [
    "## Your code here down\n",
    "\n",
    "above_temp = df[df['temperature'] > 20]\n",
    "print(above_temp)\n",
    "\n",
    "## Your code here up"
   ]
  },
  {
   "cell_type": "markdown",
   "metadata": {},
   "source": [
    "2. Sort the DataFrame by precipitation in descending order."
   ]
  },
  {
   "cell_type": "code",
   "execution_count": 65,
   "metadata": {},
   "outputs": [
    {
     "name": "stdout",
     "output_type": "stream",
     "text": [
      "    farm_name  farm_lon  farm_lat  temperature  precipitation   soil_type\n",
      "83    Farm 84   -104.83     51.27         25.6           89.9       brown\n",
      "63    Farm 64   -102.20     51.91         22.6           89.7  dark brown\n",
      "52    Farm 53   -102.98     51.00         24.2           89.4       black\n",
      "92    Farm 93   -102.40     51.71         23.6           88.8       brown\n",
      "158  Farm 159   -101.01     51.05         25.7           88.6  dark brown\n",
      "..        ...       ...       ...          ...            ...         ...\n",
      "106  Farm 107   -102.96     50.27         20.5           21.7  dark brown\n",
      "189  Farm 190   -101.29     51.64         32.3           21.0       black\n",
      "36    Farm 37   -103.75     51.56         31.6           20.9        gray\n",
      "103  Farm 104   -100.36     50.60         22.3           20.6        None\n",
      "86    Farm 87   -100.29     50.60         27.4           20.4        gray\n",
      "\n",
      "[200 rows x 6 columns]\n"
     ]
    }
   ],
   "source": [
    "## Your code here down\n",
    "\n",
    "prec_desc = df.sort_values(by='precipitation', ascending = False)\n",
    "print (prec_desc)\n",
    "\n",
    "## Your code here up"
   ]
  },
  {
   "cell_type": "markdown",
   "metadata": {},
   "source": [
    "3. Filter the DataFrame to include only the farms located within latitude (51.15 & 51.00) range."
   ]
  },
  {
   "cell_type": "code",
   "execution_count": 66,
   "metadata": {},
   "outputs": [
    {
     "name": "stdout",
     "output_type": "stream",
     "text": [
      "    farm_name  farm_lon  farm_lat  temperature  precipitation   soil_type\n",
      "2      Farm 3   -103.20     51.11         27.2           47.9       black\n",
      "3      Farm 4   -102.80     51.05         31.9           45.0       black\n",
      "33    Farm 34   -103.22     51.11         19.3           78.2        gray\n",
      "47    Farm 48   -102.26     51.13         25.7           45.2  dark brown\n",
      "52    Farm 53   -102.98     51.00         24.2           89.4       black\n",
      "60    Farm 61   -100.64     51.03         22.4           29.2        None\n",
      "88    Farm 89   -103.57     51.11         20.8           26.5       black\n",
      "94    Farm 95   -104.32     51.00         30.5           82.0        None\n",
      "105  Farm 106   -100.79     51.11         31.0           59.1       black\n",
      "111  Farm 112   -101.81     51.01         30.0           57.3       brown\n",
      "118  Farm 119   -101.46     51.07         26.2           47.5       black\n",
      "125  Farm 126   -100.12     51.14         29.9           85.7       black\n",
      "133  Farm 134   -100.10     51.11         26.0           71.9       brown\n",
      "149  Farm 150   -100.42     51.11         24.1           54.8       black\n",
      "152  Farm 153   -101.27     51.04         25.0           66.7       brown\n",
      "158  Farm 159   -101.01     51.05         25.7           88.6  dark brown\n"
     ]
    }
   ],
   "source": [
    "## Your code here down\n",
    "lrs = 51.00\n",
    "lre = 51.15\n",
    "filtered_latitude = df[(df['farm_lat'] >= lrs) & (df['farm_lat'] <= lre)]\n",
    "print(filtered_latitude)\n",
    "\n",
    "## Your code here up"
   ]
  },
  {
   "cell_type": "markdown",
   "metadata": {},
   "source": [
    " 4. Calculate the standard deviation of precipitation for each soil type."
   ]
  },
  {
   "cell_type": "code",
   "execution_count": 67,
   "metadata": {},
   "outputs": [
    {
     "name": "stdout",
     "output_type": "stream",
     "text": [
      "soil_type\n",
      "black         20.877406\n",
      "brown         19.001309\n",
      "dark brown    20.452418\n",
      "gray          20.835344\n",
      "Name: precipitation, dtype: float64\n"
     ]
    }
   ],
   "source": [
    "## Your code here down\n",
    "\n",
    "#Group\n",
    "group_soil = df.groupby('soil_type')\n",
    "\n",
    "#Standard deviation by soil type:\n",
    "std_soil = group_soil['precipitation'].std()\n",
    "print(std_soil)\n",
    "\n",
    "## Your code here up"
   ]
  },
  {
   "cell_type": "markdown",
   "metadata": {},
   "source": [
    "5. Calculate the cumulative sum of precipitation for each soil type."
   ]
  },
  {
   "cell_type": "code",
   "execution_count": 69,
   "metadata": {},
   "outputs": [
    {
     "name": "stdout",
     "output_type": "stream",
     "text": [
      "0        75.0\n",
      "1         NaN\n",
      "2        47.9\n",
      "3        92.9\n",
      "4        24.7\n",
      "        ...  \n",
      "195       NaN\n",
      "196    1889.3\n",
      "197    1975.7\n",
      "198    2009.7\n",
      "199    2620.6\n",
      "Name: precipitation, Length: 200, dtype: float64\n"
     ]
    }
   ],
   "source": [
    "## Your code here down\n",
    "\n",
    "#Group\n",
    "group_soil = df.groupby('soil_type')\n",
    "#print(group_soil)\n",
    "\n",
    "#cumulative sum of precipitation for group\n",
    "cum_sum_soil = group_soil['precipitation'].cumsum() \n",
    "print(cum_sum_soil)\n",
    "\n",
    "## Your code here up"
   ]
  },
  {
   "cell_type": "markdown",
   "metadata": {},
   "source": [
    "6. Determine the top 3 farms with the highest average temperature."
   ]
  },
  {
   "cell_type": "code",
   "execution_count": 70,
   "metadata": {},
   "outputs": [
    {
     "name": "stdout",
     "output_type": "stream",
     "text": [
      "farm_name\n",
      "Farm 94    32.9\n",
      "Farm 18    32.9\n",
      "Farm 12    32.9\n",
      "Name: temperature, dtype: float64\n"
     ]
    }
   ],
   "source": [
    "## Your code here down\n",
    "\n",
    "average_temp = df.groupby('farm_name')['temperature'].mean()\n",
    "sort_farms = average_temp.sort_values(ascending = False)\n",
    "top_3 = sort_farms.head(3)\n",
    "print(top_3)\n",
    "\n",
    "## Your code here up"
   ]
  },
  {
   "cell_type": "markdown",
   "metadata": {},
   "source": [
    "7. Find famrs in each soil type that have the highest temperature."
   ]
  },
  {
   "cell_type": "code",
   "execution_count": 80,
   "metadata": {},
   "outputs": [
    {
     "name": "stdout",
     "output_type": "stream",
     "text": [
      "    farm_name  farm_lon  farm_lat  temperature  precipitation   soil_type\n",
      "17    Farm 18   -100.99     50.96         32.9           57.6       black\n",
      "25    Farm 26   -100.62     50.90         32.8           47.1       brown\n",
      "197  Farm 198   -103.25     51.53         32.8           86.4  dark brown\n",
      "4      Farm 5   -104.35     50.41         32.8           24.7        gray\n"
     ]
    }
   ],
   "source": [
    "## Your code here down\n",
    "groups = df.groupby('soil_type')\n",
    "dfs_with_highest_temp = []\n",
    "\n",
    "# Highest temperature:\n",
    "for name, group in groups:\n",
    "    max_temp = group['temperature'].max()\n",
    "    farms_highest_temp = group[group['temperature'] == max_temp]\n",
    "    dfs_with_highest_temp.append(farms_highest_temp)\n",
    "\n",
    "farms_with_highest_temp = pd.concat(dfs_with_highest_temp)\n",
    "print(farms_with_highest_temp)\n",
    "\n",
    "## Your code here up"
   ]
  },
  {
   "cell_type": "markdown",
   "metadata": {},
   "source": [
    "8. Create new column 'percentage_tot_prec' and add the percentage contribution of each farm's precipitation (relative to total precipitation) to the column."
   ]
  },
  {
   "cell_type": "code",
   "execution_count": 81,
   "metadata": {},
   "outputs": [
    {
     "name": "stdout",
     "output_type": "stream",
     "text": [
      "    farm_name  farm_lon  farm_lat  temperature  precipitation   soil_type  \\\n",
      "0      Farm 1   -104.49     50.57         19.8           75.0       brown   \n",
      "1      Farm 2   -103.35     50.65         27.6           54.2        None   \n",
      "2      Farm 3   -103.20     51.11         27.2           47.9       black   \n",
      "3      Farm 4   -102.80     51.05         31.9           45.0       black   \n",
      "4      Farm 5   -104.35     50.41         32.8           24.7        gray   \n",
      "..        ...       ...       ...          ...            ...         ...   \n",
      "195  Farm 196   -103.26     50.54         32.2           47.1        None   \n",
      "196  Farm 197   -100.72     50.36         21.5           56.7  dark brown   \n",
      "197  Farm 198   -103.25     51.53         32.8           86.4  dark brown   \n",
      "198  Farm 199   -101.38     51.71         31.0           34.0  dark brown   \n",
      "199  Farm 200   -100.68     50.23         20.5           75.2       brown   \n",
      "\n",
      "     percentage_tot_prec  \n",
      "0               0.668890  \n",
      "1               0.483385  \n",
      "2               0.427198  \n",
      "3               0.401334  \n",
      "4               0.220288  \n",
      "..                   ...  \n",
      "195             0.420063  \n",
      "196             0.505681  \n",
      "197             0.770562  \n",
      "198             0.303230  \n",
      "199             0.670674  \n",
      "\n",
      "[200 rows x 7 columns]\n"
     ]
    }
   ],
   "source": [
    "## Your code here down\n",
    "total_precipitation = df['precipitation'].sum()\n",
    "df['percentage_tot_prec'] = (df['precipitation'] / total_precipitation) * 100\n",
    "print(df)\n",
    "\n",
    "## Your code here up"
   ]
  },
  {
   "cell_type": "markdown",
   "metadata": {},
   "source": [
    "9. Create a new column called \"precipitation_rank\" that ranks the farms based on their precipitation in ascending order, with ties being assigned the same rank."
   ]
  },
  {
   "cell_type": "code",
   "execution_count": 82,
   "metadata": {},
   "outputs": [
    {
     "name": "stdout",
     "output_type": "stream",
     "text": [
      "    farm_name  farm_lon  farm_lat  temperature  precipitation   soil_type  \\\n",
      "0      Farm 1   -104.49     50.57         19.8           75.0       brown   \n",
      "1      Farm 2   -103.35     50.65         27.6           54.2        None   \n",
      "2      Farm 3   -103.20     51.11         27.2           47.9       black   \n",
      "3      Farm 4   -102.80     51.05         31.9           45.0       black   \n",
      "4      Farm 5   -104.35     50.41         32.8           24.7        gray   \n",
      "..        ...       ...       ...          ...            ...         ...   \n",
      "195  Farm 196   -103.26     50.54         32.2           47.1        None   \n",
      "196  Farm 197   -100.72     50.36         21.5           56.7  dark brown   \n",
      "197  Farm 198   -103.25     51.53         32.8           86.4  dark brown   \n",
      "198  Farm 199   -101.38     51.71         31.0           34.0  dark brown   \n",
      "199  Farm 200   -100.68     50.23         20.5           75.2       brown   \n",
      "\n",
      "     percentage_tot_prec  precipitation_rank  \n",
      "0               0.668890               152.0  \n",
      "1               0.483385                92.0  \n",
      "2               0.427198                73.0  \n",
      "3               0.401334                61.0  \n",
      "4               0.220288                16.0  \n",
      "..                   ...                 ...  \n",
      "195             0.420063                69.0  \n",
      "196             0.505681                99.0  \n",
      "197             0.770562               187.0  \n",
      "198             0.303230                42.0  \n",
      "199             0.670674               153.0  \n",
      "\n",
      "[200 rows x 8 columns]\n"
     ]
    }
   ],
   "source": [
    "## Your code here down\n",
    "\n",
    "df['precipitation_rank'] = df['precipitation'].rank(method = 'min')\n",
    "print(df)\n",
    "\n",
    "## Your code here up"
   ]
  },
  {
   "cell_type": "markdown",
   "metadata": {},
   "source": [
    "10. Normalize the temperature column to a range between 0 and 1 for each farm."
   ]
  },
  {
   "cell_type": "code",
   "execution_count": 83,
   "metadata": {},
   "outputs": [
    {
     "name": "stdout",
     "output_type": "stream",
     "text": [
      "    farm_name  farm_lon  farm_lat  temperature  precipitation   soil_type  \\\n",
      "0      Farm 1   -104.49     50.57     0.120805           75.0       brown   \n",
      "1      Farm 2   -103.35     50.65     0.644295           54.2        None   \n",
      "2      Farm 3   -103.20     51.11     0.617450           47.9       black   \n",
      "3      Farm 4   -102.80     51.05     0.932886           45.0       black   \n",
      "4      Farm 5   -104.35     50.41     0.993289           24.7        gray   \n",
      "..        ...       ...       ...          ...            ...         ...   \n",
      "195  Farm 196   -103.26     50.54     0.953020           47.1        None   \n",
      "196  Farm 197   -100.72     50.36     0.234899           56.7  dark brown   \n",
      "197  Farm 198   -103.25     51.53     0.993289           86.4  dark brown   \n",
      "198  Farm 199   -101.38     51.71     0.872483           34.0  dark brown   \n",
      "199  Farm 200   -100.68     50.23     0.167785           75.2       brown   \n",
      "\n",
      "     percentage_tot_prec  precipitation_rank  \n",
      "0               0.668890               152.0  \n",
      "1               0.483385                92.0  \n",
      "2               0.427198                73.0  \n",
      "3               0.401334                61.0  \n",
      "4               0.220288                16.0  \n",
      "..                   ...                 ...  \n",
      "195             0.420063                69.0  \n",
      "196             0.505681                99.0  \n",
      "197             0.770562               187.0  \n",
      "198             0.303230                42.0  \n",
      "199             0.670674               153.0  \n",
      "\n",
      "[200 rows x 8 columns]\n"
     ]
    }
   ],
   "source": [
    "## Your code here down\n",
    "\n",
    "min_temp = df['temperature'].min()\n",
    "max_temp = df['temperature'].max()\n",
    "\n",
    "df['temperature'] = (df['temperature'] - min_temp) / (max_temp - min_temp)\n",
    "print(df)\n",
    "\n",
    "## Your code here up"
   ]
  },
  {
   "cell_type": "markdown",
   "metadata": {},
   "source": [
    "# Assignment 4"
   ]
  },
  {
   "cell_type": "markdown",
   "metadata": {},
   "source": [
    "## ETL"
   ]
  },
  {
   "cell_type": "markdown",
   "metadata": {},
   "source": [
    "11. Change column types accordingly."
   ]
  },
  {
   "cell_type": "code",
   "execution_count": 86,
   "metadata": {},
   "outputs": [
    {
     "name": "stdout",
     "output_type": "stream",
     "text": [
      "<class 'pandas.core.frame.DataFrame'>\n",
      "RangeIndex: 200 entries, 0 to 199\n",
      "Data columns (total 8 columns):\n",
      " #   Column               Non-Null Count  Dtype  \n",
      "---  ------               --------------  -----  \n",
      " 0   farm_name            200 non-null    string \n",
      " 1   farm_lon             200 non-null    float64\n",
      " 2   farm_lat             200 non-null    float64\n",
      " 3   temperature          200 non-null    float64\n",
      " 4   precipitation        200 non-null    float64\n",
      " 5   soil_type            158 non-null    string \n",
      " 6   percentage_tot_prec  200 non-null    float64\n",
      " 7   precipitation_rank   200 non-null    float64\n",
      "dtypes: float64(6), string(2)\n",
      "memory usage: 12.6 KB\n"
     ]
    }
   ],
   "source": [
    "## Your code here down\n",
    "import pandas as pd\n",
    "\n",
    "df['farm_name'] = df['farm_name'].astype('string')\n",
    "df['farm_lon'] = df['farm_lon'].astype('float')\n",
    "df['farm_lat'] = df['farm_lat'].astype('float')\n",
    "df['temperature'] = df['temperature'].astype('float')\n",
    "df['precipitation'] = df['precipitation'].astype('float')\n",
    "df['soil_type'] = df['soil_type'].astype('string')\n",
    "df['percentage_tot_prec'] = df['percentage_tot_prec'].astype('float')\n",
    "df['precipitation_rank'] = df['precipitation_rank'].astype('float')\n",
    "df.info()\n",
    "\n",
    "## Your code here up"
   ]
  },
  {
   "cell_type": "markdown",
   "metadata": {},
   "source": [
    "## EDA"
   ]
  },
  {
   "cell_type": "markdown",
   "metadata": {},
   "source": [
    "12. Find missing values and give information how would you handle them"
   ]
  },
  {
   "cell_type": "code",
   "execution_count": 88,
   "metadata": {},
   "outputs": [
    {
     "name": "stdout",
     "output_type": "stream",
     "text": [
      "     farm_name  farm_lon  farm_lat  temperature  precipitation  soil_type  \\\n",
      "0        False     False     False        False          False      False   \n",
      "1        False     False     False        False          False       True   \n",
      "2        False     False     False        False          False      False   \n",
      "3        False     False     False        False          False      False   \n",
      "4        False     False     False        False          False      False   \n",
      "..         ...       ...       ...          ...            ...        ...   \n",
      "195      False     False     False        False          False       True   \n",
      "196      False     False     False        False          False      False   \n",
      "197      False     False     False        False          False      False   \n",
      "198      False     False     False        False          False      False   \n",
      "199      False     False     False        False          False      False   \n",
      "\n",
      "     percentage_tot_prec  precipitation_rank  \n",
      "0                  False               False  \n",
      "1                  False               False  \n",
      "2                  False               False  \n",
      "3                  False               False  \n",
      "4                  False               False  \n",
      "..                   ...                 ...  \n",
      "195                False               False  \n",
      "196                False               False  \n",
      "197                False               False  \n",
      "198                False               False  \n",
      "199                False               False  \n",
      "\n",
      "[200 rows x 8 columns]\n"
     ]
    }
   ],
   "source": [
    "## Your code here down\n",
    "\n",
    "missing_values = df.isnull()\n",
    "print(missing_values)\n",
    "\n",
    "# I would handle them removing rows and missing values to clean data, or replace the values for some meaningful value, or flag the missing values to help with the analysis.\n",
    "\n",
    "## Your code here up"
   ]
  },
  {
   "cell_type": "markdown",
   "metadata": {},
   "source": [
    "13. Find outliers if there is any how would you handle them"
   ]
  },
  {
   "cell_type": "code",
   "execution_count": 107,
   "metadata": {},
   "outputs": [
    {
     "name": "stdout",
     "output_type": "stream",
     "text": [
      "0      False\n",
      "1      False\n",
      "2      False\n",
      "3      False\n",
      "4      False\n",
      "       ...  \n",
      "195    False\n",
      "196    False\n",
      "197    False\n",
      "198    False\n",
      "199    False\n",
      "Name: temperature, Length: 200, dtype: bool\n"
     ]
    }
   ],
   "source": [
    "## Your code here down\n",
    "\n",
    "Q1 = df[\"temperature\"].quantile(0.25)\n",
    "Q3 = df[\"temperature\"].quantile(0.75)\n",
    "IQR = Q3 - Q1\n",
    "lower_bound = Q1 - (1.5 * IQR)\n",
    "upper_bound = Q3 + (1.5 * IQR)\n",
    "outliers_temperature = (df['temperature'] < lower_bound) | (df['temperature'] > upper_bound)\n",
    "print(outliers_temperature)\n",
    "\n",
    "# Once you identify the ouliers you can remove them, transform data, winsorization (replace extreme values), use robust statistics (median, MAD),Data analysis because outliers represent unique events. \n",
    "\n",
    "## Your code here up"
   ]
  },
  {
   "cell_type": "markdown",
   "metadata": {},
   "source": [
    "14. Find descriptive statistics for relavant columns and plot them by using bars."
   ]
  },
  {
   "cell_type": "code",
   "execution_count": 108,
   "metadata": {},
   "outputs": [
    {
     "data": {
      "image/png": "[encoded data removed]",
      "text/plain": [
       "<Figure size 640x480 with 1 Axes>"
      ]
     },
     "metadata": {},
     "output_type": "display_data"
    }
   ],
   "source": [
    "## Your code here down\n",
    "import pandas as pd\n",
    "import matplotlib.pyplot as plt\n",
    "\n",
    "df.drop(columns=['farm_lon', 'farm_lat']).describe().T\\\n",
    "    .drop(columns='count')\\\n",
    "    .plot(kind='bar')\n",
    "plt.title('Descriptive Statistics', color='green', fontsize=16)\n",
    "plt.xlabel('Weather', color='green',fontsize=14)\n",
    "plt.ylabel('Values', color='green', fontsize=14)\n",
    "plt.xticks(color='red', fontsize=11)\n",
    "plt.yticks(color='red')\n",
    "plt.tight_layout()\n",
    "plt.show()\n",
    "\n",
    "## Your code here up"
   ]
  },
  {
   "cell_type": "markdown",
   "metadata": {},
   "source": [
    "15. Plot the distribution of relevant columns."
   ]
  },
  {
   "cell_type": "code",
   "execution_count": 109,
   "metadata": {},
   "outputs": [
    {
     "data": {
      "image/png": "[encoded data removed]",
      "text/plain": [
       "<Figure size 800x1000 with 2 Axes>"
      ]
     },
     "metadata": {},
     "output_type": "display_data"
    }
   ],
   "source": [
    "## Your code here down\n",
    "\n",
    "fig, axes = plt.subplots(2, 1, figsize=(8, 10))\n",
    "\n",
    "# Plot the distribution of 'temperature' using a histogram\n",
    "axes[0].hist(df['temperature'], bins=20, color='blue', edgecolor='black')\n",
    "axes[0].set_title('Distribution of Temperature')\n",
    "axes[0].set_xlabel('Temperature')\n",
    "axes[0].set_ylabel('Frequency')\n",
    "\n",
    "# Plot the distribution of 'precipitation' using a histogram\n",
    "axes[1].hist(df['precipitation'], bins=20, color='lightcoral', edgecolor='black')\n",
    "axes[1].set_title('Distribution of Precipitation')\n",
    "axes[1].set_xlabel('Precipitation')\n",
    "axes[1].set_ylabel('Frequency')\n",
    "\n",
    "plt.tight_layout()\n",
    "plt.show()\n",
    "\n",
    "\n",
    "## Your code here up"
   ]
  }
 ],
 "metadata": {
  "kernelspec": {
   "display_name": "Python 3 (ipykernel)",
   "language": "python",
   "name": "python3"
  },
  "language_info": {
   "codemirror_mode": {
    "name": "ipython",
    "version": 3
   },
   "file_extension": ".py",
   "mimetype": "text/x-python",
   "name": "python",
   "nbconvert_exporter": "python",
   "pygments_lexer": "ipython3",
   "version": "3.11.4"
  }
 },
 "nbformat": 4,
 "nbformat_minor": 2
}
